{
 "cells": [
  {
   "cell_type": "markdown",
   "metadata": {},
   "source": [
    "## Panda\n",
    "\n",
    "Docs: https://pandas.pydata.org/docs/getting_started/index.html\n",
    "\n",
    "##### Installation Pandas\n",
    "\n",
    "```bash\n",
    "pip install pandas\n",
    "\n",
    "# ou\n",
    "\n",
    "python -m pip install pandas\n",
    "```\n"
   ]
  },
  {
   "cell_type": "code",
   "execution_count": 2,
   "metadata": {},
   "outputs": [],
   "source": [
    "import pandas as pd"
   ]
  },
  {
   "cell_type": "code",
   "execution_count": 3,
   "metadata": {},
   "outputs": [
    {
     "name": "stdout",
     "output_type": "stream",
     "text": [
      "             Nom  Age Genre\n",
      "0    Jean Claude   55     m\n",
      "1  Madame Applon   40     f\n",
      "2      Jeannette   35     f\n",
      "3       Imprevue   22     m\n"
     ]
    }
   ],
   "source": [
    "df = pd.DataFrame({\n",
    "    \"Nom\" : ['Jean Claude', \"Madame Applon\", \"Jeannette\", \"Imprevue\"],\n",
    "    \"Age\" : [55, 40, 35, 22],\n",
    "    \"Genre\": ['m', 'f', 'f', 'm']\n",
    "})\n",
    "\n",
    "\n",
    "print(df)"
   ]
  },
  {
   "cell_type": "code",
   "execution_count": 4,
   "metadata": {},
   "outputs": [
    {
     "name": "stdout",
     "output_type": "stream",
     "text": [
      "0      Jean Claude\n",
      "1    Madame Applon\n",
      "2        Jeannette\n",
      "3         Imprevue\n",
      "Name: Nom, dtype: object\n"
     ]
    }
   ],
   "source": [
    "print(df[\"Nom\"])"
   ]
  },
  {
   "cell_type": "code",
   "execution_count": 5,
   "metadata": {},
   "outputs": [
    {
     "name": "stdout",
     "output_type": "stream",
     "text": [
      "             Nom  Age Genre\n",
      "1  Madame Applon   40     f\n"
     ]
    }
   ],
   "source": [
    "# men = df[ df[\"Genre\"] == \"m\" ]\n",
    "# print(men)\n",
    "\n",
    "women = df[ df[\"Genre\"] == \"f\" ]\n",
    "# print(women)\n",
    "\n",
    "age_after_35_years = women[ women[\"Age\"] > 35 ]\n",
    "print(age_after_35_years)"
   ]
  },
  {
   "cell_type": "code",
   "execution_count": 6,
   "metadata": {},
   "outputs": [
    {
     "name": "stdout",
     "output_type": "stream",
     "text": [
      "                 0              1          2         3\n",
      "Nom    Jean Claude  Madame Applon  Jeannette  Imprevue\n",
      "Age             55             40         35        22\n",
      "Genre            m              f          f         m\n"
     ]
    }
   ],
   "source": [
    "print(df.T)"
   ]
  },
  {
   "cell_type": "code",
   "execution_count": 7,
   "metadata": {},
   "outputs": [
    {
     "name": "stdout",
     "output_type": "stream",
     "text": [
      "           Nom  Age Genre\n",
      "0  Jean Claude   55     m\n"
     ]
    }
   ],
   "source": [
    "jean_claude = df[ df[\"Nom\"] == \"Jean Claude\"]\n",
    "\n",
    "print(jean_claude)"
   ]
  },
  {
   "cell_type": "code",
   "execution_count": 8,
   "metadata": {},
   "outputs": [
    {
     "name": "stdout",
     "output_type": "stream",
     "text": [
      "           Nom Genre\n",
      "0  Jean Claude     m\n",
      "2    Jeannette     f\n"
     ]
    }
   ],
   "source": [
    "data = df.loc[[0, 2], [\"Nom\", \"Genre\"]]\n",
    "\n",
    "print(data)"
   ]
  },
  {
   "cell_type": "code",
   "execution_count": 9,
   "metadata": {},
   "outputs": [
    {
     "name": "stdout",
     "output_type": "stream",
     "text": [
      "           Nom Genre\n",
      "0  Jean Claude     m\n",
      "2    Jeannette     f\n"
     ]
    }
   ],
   "source": [
    "data = df.iloc[[0, 2], [0, 2]]\n",
    "\n",
    "print(data)"
   ]
  },
  {
   "cell_type": "code",
   "execution_count": 10,
   "metadata": {},
   "outputs": [
    {
     "name": "stdout",
     "output_type": "stream",
     "text": [
      "       Ouest  Nord\n",
      "Homme     63    55\n",
      "Femme     37    45\n"
     ]
    }
   ],
   "source": [
    "\n",
    "df = pd.DataFrame(\n",
    "    data=[[63, 55], [37, 45]],\n",
    "    index=['Homme', 'Femme'],\n",
    "    columns=[\"Ouest\", \"Nord\"]\n",
    ")\n",
    "\n",
    "print(df)"
   ]
  },
  {
   "cell_type": "code",
   "execution_count": 11,
   "metadata": {},
   "outputs": [
    {
     "name": "stdout",
     "output_type": "stream",
     "text": [
      "Homme    55\n",
      "Femme    45\n",
      "Name: Nord, dtype: int64\n"
     ]
    }
   ],
   "source": [
    "print(df['Nord'])"
   ]
  },
  {
   "cell_type": "code",
   "execution_count": 13,
   "metadata": {},
   "outputs": [],
   "source": [
    "df.to_csv('dataframe.csv')"
   ]
  },
  {
   "cell_type": "code",
   "execution_count": null,
   "metadata": {},
   "outputs": [],
   "source": [
    "\n"
   ]
  }
 ],
 "metadata": {
  "kernelspec": {
   "display_name": "3.12.4",
   "language": "python",
   "name": "python3"
  },
  "language_info": {
   "codemirror_mode": {
    "name": "ipython",
    "version": 3
   },
   "file_extension": ".py",
   "mimetype": "text/x-python",
   "name": "python",
   "nbconvert_exporter": "python",
   "pygments_lexer": "ipython3",
   "version": "3.12.4"
  }
 },
 "nbformat": 4,
 "nbformat_minor": 2
}

{
 "cells": [
  {
   "cell_type": "markdown",
   "metadata": {},
   "source": [
    "## Numpy\n"
   ]
  },
  {
   "cell_type": "code",
   "execution_count": 18,
   "metadata": {},
   "outputs": [
    {
     "name": "stdout",
     "output_type": "stream",
     "text": [
      "<class 'numpy.ndarray'>\n",
      "[1.  2.  3.  4.  5.  6.8 7.  8.  9. ]\n",
      "float64\n"
     ]
    }
   ],
   "source": [
    "# Installation Numpy\n",
    "# Docs: https://numpy.org/doc/stable/user/index.html\n",
    "# NDARRAY: https://numpy.org/doc/stable/reference/arrays.ndarray.html\n",
    "# \n",
    "# pip install numpy\n",
    "# ou\n",
    "# python -m pip install numpy\n",
    "\n",
    "\n",
    "import numpy as np\n",
    "\n",
    "data = np.array([ 1, 2, 3, 4, 5, 6, 7, 8, 9])\n",
    "\n",
    "# ndarray\n",
    "print(type(data))\n",
    "\n",
    "print(data)\n",
    "\n",
    "print(data.dtype)"
   ]
  },
  {
   "cell_type": "code",
   "execution_count": 35,
   "metadata": {},
   "outputs": [
    {
     "name": "stdout",
     "output_type": "stream",
     "text": [
      "[[[1 2]\n",
      "  [3 4]]\n",
      "\n",
      " [[5 6]\n",
      "  [7 8]]]\n",
      "3\n",
      "(2, 2, 2)\n",
      "64\n"
     ]
    }
   ],
   "source": [
    "# array_1d = np.array([7, 2, 9, 10])\n",
    "\n",
    "# print(array_1d)\n",
    "# print(array_1d.ndim)\n",
    "# print(array_1d.shape)\n",
    "\n",
    "\n",
    "# array_2d = np.array([[5.2, 3.0, 4.5], [9.1, 0.1, 0.3]])\n",
    "\n",
    "# print(array_2d)\n",
    "# print(array_2d.ndim)\n",
    "# print(array_2d.shape)\n",
    "\n",
    "\n",
    "array_3d = np.array([ [ [1, 2], [3, 4] ], [ [ 5, 6 ], [7, 8] ] ])\n",
    "\n",
    "print(array_3d)\n",
    "print(array_3d.ndim)\n",
    "print(array_3d.shape)\n",
    "print(array_3d.nbytes)"
   ]
  },
  {
   "cell_type": "markdown",
   "metadata": {},
   "source": [
    "#### Filter data with `numpy`"
   ]
  },
  {
   "cell_type": "code",
   "execution_count": 38,
   "metadata": {},
   "outputs": [
    {
     "name": "stdout",
     "output_type": "stream",
     "text": [
      "[2 4 6 8] [1 3 5 7 9]\n"
     ]
    }
   ],
   "source": [
    "data = np.array([ 1, 2, 3, 4, 5, 6, 7, 8, 9])\n",
    "\n",
    "even_numbers = data[ data % 2 == 0 ]\n",
    "odd_numbers = data[ data % 2 != 0]\n",
    "\n",
    "print(even_numbers, odd_numbers)"
   ]
  },
  {
   "cell_type": "markdown",
   "metadata": {},
   "source": [
    "#### Order data with `numpy`"
   ]
  },
  {
   "cell_type": "code",
   "execution_count": 42,
   "metadata": {},
   "outputs": [
    {
     "name": "stdout",
     "output_type": "stream",
     "text": [
      "[ 2  3  6  8 12 15 22 26 34 43]\n"
     ]
    }
   ],
   "source": [
    "data = np.array([ 12, 3, 8, 6,22, 43, 2, 34, 26, 15 ])\n",
    "\n",
    "asc = np.sort(data)\n",
    "\n",
    "print(asc)"
   ]
  },
  {
   "cell_type": "code",
   "execution_count": 45,
   "metadata": {},
   "outputs": [
    {
     "name": "stdout",
     "output_type": "stream",
     "text": [
      "['ananas' 'banane' 'orange' 'pomme']\n"
     ]
    }
   ],
   "source": [
    "fruits = np.array(['orange', 'pomme', 'ananas', 'banane'])\n",
    "\n",
    "sorted_fruits = np.sort(fruits)\n",
    "\n",
    "print(sorted_fruits)"
   ]
  }
 ],
 "metadata": {
  "kernelspec": {
   "display_name": "3.12.4",
   "language": "python",
   "name": "python3"
  },
  "language_info": {
   "codemirror_mode": {
    "name": "ipython",
    "version": 3
   },
   "file_extension": ".py",
   "mimetype": "text/x-python",
   "name": "python",
   "nbconvert_exporter": "python",
   "pygments_lexer": "ipython3",
   "version": "3.12.4"
  }
 },
 "nbformat": 4,
 "nbformat_minor": 2
}

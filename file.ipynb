{
 "cells": [
  {
   "cell_type": "markdown",
   "metadata": {},
   "source": [
    "\n",
    "Datafame : https://raw.githubusercontent.com/mwaskom/seaborn-data/refs/heads/master/exercise.csv"
   ]
  },
  {
   "cell_type": "code",
   "execution_count": 34,
   "metadata": {},
   "outputs": [],
   "source": [
    "import pandas as pd"
   ]
  },
  {
   "cell_type": "code",
   "execution_count": 87,
   "metadata": {},
   "outputs": [
    {
     "name": "stdout",
     "output_type": "stream",
     "text": [
      "    id     diet  pulse  time     kind  time_in_s  pulse_for_time\n",
      "0    1  low fat     85   1.0     rest       60.0            85.0\n",
      "1    1  low fat     85  15.0     rest      900.0          1275.0\n",
      "2    1  low fat     88  30.0     rest     1800.0          2640.0\n",
      "3    2  low fat     90   1.0     rest       60.0            90.0\n",
      "4    2  low fat     92  15.0     rest      900.0          1380.0\n",
      "..  ..      ...    ...   ...      ...        ...             ...\n",
      "85  29   no fat    135  15.0  running      900.0          2025.0\n",
      "86  29   no fat    130  30.0  running     1800.0          3900.0\n",
      "87  30   no fat     99   1.0  running       60.0            99.0\n",
      "88  30   no fat    111  15.0  running      900.0          1665.0\n",
      "89  30   no fat    150  30.0  running     1800.0          4500.0\n",
      "\n",
      "[90 rows x 7 columns]\n"
     ]
    }
   ],
   "source": [
    "df = pd.read_csv('https://raw.githubusercontent.com/mwaskom/seaborn-data/refs/heads/master/exercise.csv', index_col=0)\n",
    "\n",
    "\n",
    "df['diet'] = df['diet'].astype('string')\n",
    "df['kind'] = df['kind'].astype('string')\n",
    "df['time'] = df['time'].astype('string').str.removesuffix(' min').astype('float')\n",
    "\n",
    "df['time_in_s'] = df['time'] * 60\n",
    "\n",
    "df['pulse_for_time'] = df['time'] * df['pulse']\n",
    "\n",
    "# print(df.head(10))\n",
    "\n",
    "# print(df.tail(10))\n",
    "\n",
    "# print(df.info())\n",
    "\n",
    "print(df)\n",
    "\n"
   ]
  },
  {
   "cell_type": "code",
   "execution_count": null,
   "metadata": {},
   "outputs": [
    {
     "name": "stdout",
     "output_type": "stream",
     "text": [
      "       diet  pulse  time     kind\n",
      "0   low fat     85   1.0     rest\n",
      "1   low fat     85  15.0     rest\n",
      "2   low fat     88  30.0     rest\n",
      "3   low fat     90   1.0     rest\n",
      "4   low fat     92  15.0     rest\n",
      "5   low fat     93  30.0     rest\n",
      "6   low fat     97   1.0     rest\n",
      "7   low fat     97  15.0     rest\n",
      "8   low fat     94  30.0     rest\n",
      "9   low fat     80   1.0     rest\n",
      "10  low fat     82  15.0     rest\n",
      "11  low fat     83  30.0     rest\n",
      "12  low fat     91   1.0     rest\n",
      "13  low fat     92  15.0     rest\n",
      "14  low fat     91  30.0     rest\n",
      "30  low fat     86   1.0  walking\n",
      "31  low fat     86  15.0  walking\n",
      "32  low fat     84  30.0  walking\n",
      "33  low fat     93   1.0  walking\n",
      "34  low fat    103  15.0  walking\n",
      "35  low fat    104  30.0  walking\n",
      "36  low fat     90   1.0  walking\n",
      "37  low fat     92  15.0  walking\n",
      "38  low fat     93  30.0  walking\n",
      "39  low fat     95   1.0  walking\n",
      "40  low fat     96  15.0  walking\n",
      "41  low fat    100  30.0  walking\n",
      "42  low fat     89   1.0  walking\n",
      "43  low fat     96  15.0  walking\n",
      "44  low fat     95  30.0  walking\n",
      "60  low fat     93   1.0  running\n",
      "61  low fat     98  15.0  running\n",
      "62  low fat    110  30.0  running\n",
      "63  low fat     98   1.0  running\n",
      "64  low fat    104  15.0  running\n",
      "65  low fat    112  30.0  running\n",
      "66  low fat     98   1.0  running\n",
      "67  low fat    105  15.0  running\n",
      "68  low fat     99  30.0  running\n",
      "69  low fat     87   1.0  running\n",
      "70  low fat    132  15.0  running\n",
      "71  low fat    120  30.0  running\n",
      "72  low fat     94   1.0  running\n",
      "73  low fat    110  15.0  running\n",
      "74  low fat    116  30.0  running\n",
      "<class 'pandas.core.frame.DataFrame'>\n"
     ]
    }
   ],
   "source": [
    "# One Column -> Serie\n",
    "# serie = df['pulse']\n",
    "# print(serie)\n",
    "# print(type(serie))\n",
    "\n",
    "# List of columns -> DataFrame\n",
    "sub_df = df[['id', 'kind']]\n",
    "\n",
    "# Conditionnal Expression -> DataFrame\n",
    "sub_df = df[ df['time'] > 15 ]\n",
    "\n",
    "# Operators: | => \"or\", & => \"and\"\n",
    "sub_df = df[ (df['kind'] == \"rest\") & (df['time'] > 15) & (df['diet'] == \"no fat\")]\n",
    "\n",
    "# Selec subset of dataframe: 'loc'\n",
    "# One index => Serie\n",
    "sub_df = df.loc[0]\n",
    "\n",
    "# Slice of Index => Dataframe\n",
    "sub_df = df.loc[0:10]\n",
    "\n",
    "# Use 'loc' with columns\n",
    "sub_df = df.loc[86, \"diet\"]\n",
    "sub_df = df.loc[0:10, \"diet\"]\n",
    "sub_df = df.loc[0:10,['diet', \"kind\"]]\n",
    "sub_df = df.loc[0:10,'diet':\"kind\"]\n",
    "sub_df = df.loc[[3,12,83],'diet':\"kind\"]\n",
    "\n",
    "sub_df = df.loc[df['diet'] == \"low fat\", 'diet':\"kind\"]\n",
    "\n",
    "# Selec subset of dataframe: 'iloc'\n",
    "# sub_df = df.iloc[86, 0]\n",
    "# sub_df = df.iloc[10:24, [0, 2, 4]]\n",
    "\n",
    "print(sub_df)\n",
    "print(type(sub_df))"
   ]
  }
 ],
 "metadata": {
  "kernelspec": {
   "display_name": "3.12.4",
   "language": "python",
   "name": "python3"
  },
  "language_info": {
   "codemirror_mode": {
    "name": "ipython",
    "version": 3
   },
   "file_extension": ".py",
   "mimetype": "text/x-python",
   "name": "python",
   "nbconvert_exporter": "python",
   "pygments_lexer": "ipython3",
   "version": "3.12.4"
  }
 },
 "nbformat": 4,
 "nbformat_minor": 2
}

{
 "cells": [
  {
   "cell_type": "code",
   "execution_count": 1,
   "metadata": {},
   "outputs": [],
   "source": [
    "import pandas as pd\n",
    "import matplotlib.pyplot as plt\n"
   ]
  },
  {
   "cell_type": "code",
   "execution_count": null,
   "metadata": {},
   "outputs": [
    {
     "data": {
      "text/html": [
       "<div>\n",
       "<style scoped>\n",
       "    .dataframe tbody tr th:only-of-type {\n",
       "        vertical-align: middle;\n",
       "    }\n",
       "\n",
       "    .dataframe tbody tr th {\n",
       "        vertical-align: top;\n",
       "    }\n",
       "\n",
       "    .dataframe thead th {\n",
       "        text-align: right;\n",
       "    }\n",
       "</style>\n",
       "<table border=\"1\" class=\"dataframe\">\n",
       "  <thead>\n",
       "    <tr style=\"text-align: right;\">\n",
       "      <th></th>\n",
       "      <th>Date</th>\n",
       "      <th>Produit</th>\n",
       "      <th>Catégorie</th>\n",
       "      <th>Quantité Vendue</th>\n",
       "      <th>Prix Unitaire</th>\n",
       "      <th>Total Ventes</th>\n",
       "    </tr>\n",
       "  </thead>\n",
       "  <tbody>\n",
       "    <tr>\n",
       "      <th>0</th>\n",
       "      <td>2024-01-01</td>\n",
       "      <td>Laptop</td>\n",
       "      <td>Électronique</td>\n",
       "      <td>2</td>\n",
       "      <td>1528</td>\n",
       "      <td>3056</td>\n",
       "    </tr>\n",
       "    <tr>\n",
       "      <th>1</th>\n",
       "      <td>2024-01-01</td>\n",
       "      <td>Smartphone</td>\n",
       "      <td>Électronique</td>\n",
       "      <td>6</td>\n",
       "      <td>1430</td>\n",
       "      <td>8580</td>\n",
       "    </tr>\n",
       "    <tr>\n",
       "      <th>2</th>\n",
       "      <td>2024-01-01</td>\n",
       "      <td>Casque Audio</td>\n",
       "      <td>Accessoires</td>\n",
       "      <td>17</td>\n",
       "      <td>1781</td>\n",
       "      <td>30277</td>\n",
       "    </tr>\n",
       "    <tr>\n",
       "      <th>3</th>\n",
       "      <td>2024-01-01</td>\n",
       "      <td>Clavier Mécanique</td>\n",
       "      <td>Accessoires</td>\n",
       "      <td>10</td>\n",
       "      <td>1756</td>\n",
       "      <td>17560</td>\n",
       "    </tr>\n",
       "    <tr>\n",
       "      <th>4</th>\n",
       "      <td>2024-01-01</td>\n",
       "      <td>Chaise Gaming</td>\n",
       "      <td>Mobilier</td>\n",
       "      <td>6</td>\n",
       "      <td>1041</td>\n",
       "      <td>6246</td>\n",
       "    </tr>\n",
       "    <tr>\n",
       "      <th>...</th>\n",
       "      <td>...</td>\n",
       "      <td>...</td>\n",
       "      <td>...</td>\n",
       "      <td>...</td>\n",
       "      <td>...</td>\n",
       "      <td>...</td>\n",
       "    </tr>\n",
       "    <tr>\n",
       "      <th>905</th>\n",
       "      <td>2024-03-31</td>\n",
       "      <td>Écran 27 pouces</td>\n",
       "      <td>Électronique</td>\n",
       "      <td>18</td>\n",
       "      <td>359</td>\n",
       "      <td>6462</td>\n",
       "    </tr>\n",
       "    <tr>\n",
       "      <th>906</th>\n",
       "      <td>2024-03-31</td>\n",
       "      <td>Souris Sans Fil</td>\n",
       "      <td>Accessoires</td>\n",
       "      <td>6</td>\n",
       "      <td>1027</td>\n",
       "      <td>6162</td>\n",
       "    </tr>\n",
       "    <tr>\n",
       "      <th>907</th>\n",
       "      <td>2024-03-31</td>\n",
       "      <td>Table de Bureau</td>\n",
       "      <td>Mobilier</td>\n",
       "      <td>14</td>\n",
       "      <td>1931</td>\n",
       "      <td>27034</td>\n",
       "    </tr>\n",
       "    <tr>\n",
       "      <th>908</th>\n",
       "      <td>2024-03-31</td>\n",
       "      <td>Ventilateur PC</td>\n",
       "      <td>Accessoires</td>\n",
       "      <td>13</td>\n",
       "      <td>1712</td>\n",
       "      <td>22256</td>\n",
       "    </tr>\n",
       "    <tr>\n",
       "      <th>909</th>\n",
       "      <td>2024-03-31</td>\n",
       "      <td>Disque SSD 1To</td>\n",
       "      <td>Électronique</td>\n",
       "      <td>9</td>\n",
       "      <td>1168</td>\n",
       "      <td>10512</td>\n",
       "    </tr>\n",
       "  </tbody>\n",
       "</table>\n",
       "<p>910 rows × 6 columns</p>\n",
       "</div>"
      ],
      "text/plain": [
       "           Date            Produit     Catégorie  Quantité Vendue  \\\n",
       "0    2024-01-01             Laptop  Électronique                2   \n",
       "1    2024-01-01         Smartphone  Électronique                6   \n",
       "2    2024-01-01       Casque Audio   Accessoires               17   \n",
       "3    2024-01-01  Clavier Mécanique   Accessoires               10   \n",
       "4    2024-01-01      Chaise Gaming      Mobilier                6   \n",
       "..          ...                ...           ...              ...   \n",
       "905  2024-03-31    Écran 27 pouces  Électronique               18   \n",
       "906  2024-03-31    Souris Sans Fil   Accessoires                6   \n",
       "907  2024-03-31    Table de Bureau      Mobilier               14   \n",
       "908  2024-03-31     Ventilateur PC   Accessoires               13   \n",
       "909  2024-03-31     Disque SSD 1To  Électronique                9   \n",
       "\n",
       "     Prix Unitaire  Total Ventes  \n",
       "0             1528          3056  \n",
       "1             1430          8580  \n",
       "2             1781         30277  \n",
       "3             1756         17560  \n",
       "4             1041          6246  \n",
       "..             ...           ...  \n",
       "905            359          6462  \n",
       "906           1027          6162  \n",
       "907           1931         27034  \n",
       "908           1712         22256  \n",
       "909           1168         10512  \n",
       "\n",
       "[910 rows x 6 columns]"
      ]
     },
     "execution_count": 2,
     "metadata": {},
     "output_type": "execute_result"
    }
   ],
   "source": [
    "df = pd.read_csv('ventes_magasin.csv')\n",
    "df"
   ]
  },
  {
   "cell_type": "code",
   "execution_count": 3,
   "metadata": {},
   "outputs": [
    {
     "data": {
      "text/html": [
       "<div>\n",
       "<style scoped>\n",
       "    .dataframe tbody tr th:only-of-type {\n",
       "        vertical-align: middle;\n",
       "    }\n",
       "\n",
       "    .dataframe tbody tr th {\n",
       "        vertical-align: top;\n",
       "    }\n",
       "\n",
       "    .dataframe thead th {\n",
       "        text-align: right;\n",
       "    }\n",
       "</style>\n",
       "<table border=\"1\" class=\"dataframe\">\n",
       "  <thead>\n",
       "    <tr style=\"text-align: right;\">\n",
       "      <th></th>\n",
       "      <th>date</th>\n",
       "      <th>produits</th>\n",
       "      <th>categorie</th>\n",
       "      <th>quantite</th>\n",
       "      <th>prix</th>\n",
       "      <th>total</th>\n",
       "    </tr>\n",
       "  </thead>\n",
       "  <tbody>\n",
       "    <tr>\n",
       "      <th>0</th>\n",
       "      <td>2024-01-01</td>\n",
       "      <td>Laptop</td>\n",
       "      <td>Électronique</td>\n",
       "      <td>2</td>\n",
       "      <td>1528</td>\n",
       "      <td>3056</td>\n",
       "    </tr>\n",
       "    <tr>\n",
       "      <th>1</th>\n",
       "      <td>2024-01-01</td>\n",
       "      <td>Smartphone</td>\n",
       "      <td>Électronique</td>\n",
       "      <td>6</td>\n",
       "      <td>1430</td>\n",
       "      <td>8580</td>\n",
       "    </tr>\n",
       "    <tr>\n",
       "      <th>2</th>\n",
       "      <td>2024-01-01</td>\n",
       "      <td>Casque Audio</td>\n",
       "      <td>Accessoires</td>\n",
       "      <td>17</td>\n",
       "      <td>1781</td>\n",
       "      <td>30277</td>\n",
       "    </tr>\n",
       "    <tr>\n",
       "      <th>3</th>\n",
       "      <td>2024-01-01</td>\n",
       "      <td>Clavier Mécanique</td>\n",
       "      <td>Accessoires</td>\n",
       "      <td>10</td>\n",
       "      <td>1756</td>\n",
       "      <td>17560</td>\n",
       "    </tr>\n",
       "    <tr>\n",
       "      <th>4</th>\n",
       "      <td>2024-01-01</td>\n",
       "      <td>Chaise Gaming</td>\n",
       "      <td>Mobilier</td>\n",
       "      <td>6</td>\n",
       "      <td>1041</td>\n",
       "      <td>6246</td>\n",
       "    </tr>\n",
       "    <tr>\n",
       "      <th>...</th>\n",
       "      <td>...</td>\n",
       "      <td>...</td>\n",
       "      <td>...</td>\n",
       "      <td>...</td>\n",
       "      <td>...</td>\n",
       "      <td>...</td>\n",
       "    </tr>\n",
       "    <tr>\n",
       "      <th>905</th>\n",
       "      <td>2024-03-31</td>\n",
       "      <td>Écran 27 pouces</td>\n",
       "      <td>Électronique</td>\n",
       "      <td>18</td>\n",
       "      <td>359</td>\n",
       "      <td>6462</td>\n",
       "    </tr>\n",
       "    <tr>\n",
       "      <th>906</th>\n",
       "      <td>2024-03-31</td>\n",
       "      <td>Souris Sans Fil</td>\n",
       "      <td>Accessoires</td>\n",
       "      <td>6</td>\n",
       "      <td>1027</td>\n",
       "      <td>6162</td>\n",
       "    </tr>\n",
       "    <tr>\n",
       "      <th>907</th>\n",
       "      <td>2024-03-31</td>\n",
       "      <td>Table de Bureau</td>\n",
       "      <td>Mobilier</td>\n",
       "      <td>14</td>\n",
       "      <td>1931</td>\n",
       "      <td>27034</td>\n",
       "    </tr>\n",
       "    <tr>\n",
       "      <th>908</th>\n",
       "      <td>2024-03-31</td>\n",
       "      <td>Ventilateur PC</td>\n",
       "      <td>Accessoires</td>\n",
       "      <td>13</td>\n",
       "      <td>1712</td>\n",
       "      <td>22256</td>\n",
       "    </tr>\n",
       "    <tr>\n",
       "      <th>909</th>\n",
       "      <td>2024-03-31</td>\n",
       "      <td>Disque SSD 1To</td>\n",
       "      <td>Électronique</td>\n",
       "      <td>9</td>\n",
       "      <td>1168</td>\n",
       "      <td>10512</td>\n",
       "    </tr>\n",
       "  </tbody>\n",
       "</table>\n",
       "<p>910 rows × 6 columns</p>\n",
       "</div>"
      ],
      "text/plain": [
       "           date           produits     categorie  quantite  prix  total\n",
       "0    2024-01-01             Laptop  Électronique         2  1528   3056\n",
       "1    2024-01-01         Smartphone  Électronique         6  1430   8580\n",
       "2    2024-01-01       Casque Audio   Accessoires        17  1781  30277\n",
       "3    2024-01-01  Clavier Mécanique   Accessoires        10  1756  17560\n",
       "4    2024-01-01      Chaise Gaming      Mobilier         6  1041   6246\n",
       "..          ...                ...           ...       ...   ...    ...\n",
       "905  2024-03-31    Écran 27 pouces  Électronique        18   359   6462\n",
       "906  2024-03-31    Souris Sans Fil   Accessoires         6  1027   6162\n",
       "907  2024-03-31    Table de Bureau      Mobilier        14  1931  27034\n",
       "908  2024-03-31     Ventilateur PC   Accessoires        13  1712  22256\n",
       "909  2024-03-31     Disque SSD 1To  Électronique         9  1168  10512\n",
       "\n",
       "[910 rows x 6 columns]"
      ]
     },
     "execution_count": 3,
     "metadata": {},
     "output_type": "execute_result"
    }
   ],
   "source": [
    "# Renommer les colonnes du DataFrame\n",
    "\n",
    "df.rename(\n",
    "    inplace=True,\n",
    "    columns={\n",
    "        \"Date\": 'date',\n",
    "        \"Produit\": 'produits',\n",
    "        \"Catégorie\": 'categorie',\n",
    "        \"Quantité Vendue\": 'quantite',\n",
    "        \"Prix Unitaire\": \"prix\",\n",
    "        \"Total Ventes\": 'total'\n",
    "    }\n",
    ")\n",
    "\n",
    "df"
   ]
  },
  {
   "cell_type": "code",
   "execution_count": 28,
   "metadata": {},
   "outputs": [
    {
     "data": {
      "text/html": [
       "<div>\n",
       "<style scoped>\n",
       "    .dataframe tbody tr th:only-of-type {\n",
       "        vertical-align: middle;\n",
       "    }\n",
       "\n",
       "    .dataframe tbody tr th {\n",
       "        vertical-align: top;\n",
       "    }\n",
       "\n",
       "    .dataframe thead th {\n",
       "        text-align: right;\n",
       "    }\n",
       "</style>\n",
       "<table border=\"1\" class=\"dataframe\">\n",
       "  <thead>\n",
       "    <tr style=\"text-align: right;\">\n",
       "      <th></th>\n",
       "      <th>date</th>\n",
       "      <th>produits</th>\n",
       "      <th>categorie</th>\n",
       "      <th>quantite</th>\n",
       "      <th>prix</th>\n",
       "      <th>total</th>\n",
       "    </tr>\n",
       "  </thead>\n",
       "  <tbody>\n",
       "    <tr>\n",
       "      <th>0</th>\n",
       "      <td>2024-01-01</td>\n",
       "      <td>Laptop</td>\n",
       "      <td>Électronique</td>\n",
       "      <td>2</td>\n",
       "      <td>1528</td>\n",
       "      <td>3056</td>\n",
       "    </tr>\n",
       "    <tr>\n",
       "      <th>1</th>\n",
       "      <td>2024-01-01</td>\n",
       "      <td>Smartphone</td>\n",
       "      <td>Électronique</td>\n",
       "      <td>6</td>\n",
       "      <td>1430</td>\n",
       "      <td>8580</td>\n",
       "    </tr>\n",
       "    <tr>\n",
       "      <th>2</th>\n",
       "      <td>2024-01-01</td>\n",
       "      <td>Casque Audio</td>\n",
       "      <td>Accessoires</td>\n",
       "      <td>17</td>\n",
       "      <td>1781</td>\n",
       "      <td>30277</td>\n",
       "    </tr>\n",
       "    <tr>\n",
       "      <th>3</th>\n",
       "      <td>2024-01-01</td>\n",
       "      <td>Clavier Mécanique</td>\n",
       "      <td>Accessoires</td>\n",
       "      <td>10</td>\n",
       "      <td>1756</td>\n",
       "      <td>17560</td>\n",
       "    </tr>\n",
       "    <tr>\n",
       "      <th>4</th>\n",
       "      <td>2024-01-01</td>\n",
       "      <td>Chaise Gaming</td>\n",
       "      <td>Mobilier</td>\n",
       "      <td>6</td>\n",
       "      <td>1041</td>\n",
       "      <td>6246</td>\n",
       "    </tr>\n",
       "    <tr>\n",
       "      <th>...</th>\n",
       "      <td>...</td>\n",
       "      <td>...</td>\n",
       "      <td>...</td>\n",
       "      <td>...</td>\n",
       "      <td>...</td>\n",
       "      <td>...</td>\n",
       "    </tr>\n",
       "    <tr>\n",
       "      <th>905</th>\n",
       "      <td>2024-03-31</td>\n",
       "      <td>Écran 27 pouces</td>\n",
       "      <td>Électronique</td>\n",
       "      <td>18</td>\n",
       "      <td>359</td>\n",
       "      <td>6462</td>\n",
       "    </tr>\n",
       "    <tr>\n",
       "      <th>906</th>\n",
       "      <td>2024-03-31</td>\n",
       "      <td>Souris Sans Fil</td>\n",
       "      <td>Accessoires</td>\n",
       "      <td>6</td>\n",
       "      <td>1027</td>\n",
       "      <td>6162</td>\n",
       "    </tr>\n",
       "    <tr>\n",
       "      <th>907</th>\n",
       "      <td>2024-03-31</td>\n",
       "      <td>Table de Bureau</td>\n",
       "      <td>Mobilier</td>\n",
       "      <td>14</td>\n",
       "      <td>1931</td>\n",
       "      <td>27034</td>\n",
       "    </tr>\n",
       "    <tr>\n",
       "      <th>908</th>\n",
       "      <td>2024-03-31</td>\n",
       "      <td>Ventilateur PC</td>\n",
       "      <td>Accessoires</td>\n",
       "      <td>13</td>\n",
       "      <td>1712</td>\n",
       "      <td>22256</td>\n",
       "    </tr>\n",
       "    <tr>\n",
       "      <th>909</th>\n",
       "      <td>2024-03-31</td>\n",
       "      <td>Disque SSD 1To</td>\n",
       "      <td>Électronique</td>\n",
       "      <td>9</td>\n",
       "      <td>1168</td>\n",
       "      <td>10512</td>\n",
       "    </tr>\n",
       "  </tbody>\n",
       "</table>\n",
       "<p>910 rows × 6 columns</p>\n",
       "</div>"
      ],
      "text/plain": [
       "          date           produits     categorie  quantite  prix  total\n",
       "0   2024-01-01             Laptop  Électronique         2  1528   3056\n",
       "1   2024-01-01         Smartphone  Électronique         6  1430   8580\n",
       "2   2024-01-01       Casque Audio   Accessoires        17  1781  30277\n",
       "3   2024-01-01  Clavier Mécanique   Accessoires        10  1756  17560\n",
       "4   2024-01-01      Chaise Gaming      Mobilier         6  1041   6246\n",
       "..         ...                ...           ...       ...   ...    ...\n",
       "905 2024-03-31    Écran 27 pouces  Électronique        18   359   6462\n",
       "906 2024-03-31    Souris Sans Fil   Accessoires         6  1027   6162\n",
       "907 2024-03-31    Table de Bureau      Mobilier        14  1931  27034\n",
       "908 2024-03-31     Ventilateur PC   Accessoires        13  1712  22256\n",
       "909 2024-03-31     Disque SSD 1To  Électronique         9  1168  10512\n",
       "\n",
       "[910 rows x 6 columns]"
      ]
     },
     "execution_count": 28,
     "metadata": {},
     "output_type": "execute_result"
    }
   ],
   "source": [
    "# gérer les valeurs manquantes, vérifier les incohérences)\n",
    "\n",
    "df.isnull().sum()\n",
    "\n",
    "df.dropna(inplace=True)\n",
    "\n",
    "# df.drop_duplicates(inplace=True)\n",
    "\n",
    "df['date'] = pd.to_datetime(df['date'])\n",
    "\n",
    "df"
   ]
  },
  {
   "cell_type": "code",
   "execution_count": 5,
   "metadata": {},
   "outputs": [
    {
     "name": "stdout",
     "output_type": "stream",
     "text": [
      "Laptop 909\n",
      "Smartphone 948\n",
      "Casque Audio 868\n",
      "Clavier Mécanique 827\n",
      "Chaise Gaming 925\n",
      "Écran 27 pouces 873\n",
      "Souris Sans Fil 924\n",
      "Table de Bureau 947\n",
      "Ventilateur PC 934\n",
      "Disque SSD 1To 890\n"
     ]
    }
   ],
   "source": [
    "# df[ df['produits'] == \"Laptop\" ]['quantite'].sum()\n",
    "\n",
    "products = df['produits'].unique()\n",
    "for product in products:\n",
    "    sum  = df[ df['produits'] == product ]['quantite'].sum()\n",
    "\n",
    "    print(product , sum )\n",
    "\n",
    "\n",
    "\n"
   ]
  },
  {
   "cell_type": "code",
   "execution_count": null,
   "metadata": {},
   "outputs": [
    {
     "name": "stdout",
     "output_type": "stream",
     "text": [
      "<class 'pandas.core.frame.DataFrame'>\n",
      "RangeIndex: 910 entries, 0 to 909\n",
      "Data columns (total 6 columns):\n",
      " #   Column     Non-Null Count  Dtype         \n",
      "---  ------     --------------  -----         \n",
      " 0   date       910 non-null    datetime64[ns]\n",
      " 1   produits   910 non-null    object        \n",
      " 2   categorie  910 non-null    object        \n",
      " 3   quantite   910 non-null    int64         \n",
      " 4   prix       910 non-null    int64         \n",
      " 5   total      910 non-null    int64         \n",
      "dtypes: datetime64[ns](1), int64(3), object(2)\n",
      "memory usage: 42.8+ KB\n"
     ]
    }
   ],
   "source": [
    "# df.info()\n",
    "\n",
    "df.describe()\n",
    "\n",
    "sales_products = df.groupby('produits')['quantite'].sum()\n",
    "\n",
    "sales_products"
   ]
  },
  {
   "cell_type": "code",
   "execution_count": 7,
   "metadata": {},
   "outputs": [
    {
     "name": "stdout",
     "output_type": "stream",
     "text": [
      "Smartphone 948\n"
     ]
    }
   ],
   "source": [
    "produit_le_plus_vendu = sales_products.idxmax()\n",
    "produit_le_plus_vendu_quantite = sales_products.max()\n",
    "\n",
    "print(produit_le_plus_vendu, produit_le_plus_vendu_quantite)"
   ]
  },
  {
   "cell_type": "code",
   "execution_count": 8,
   "metadata": {},
   "outputs": [
    {
     "data": {
      "text/plain": [
       "date\n",
       "2024-01-01     98435\n",
       "2024-01-02     88606\n",
       "2024-01-03     68826\n",
       "2024-01-04     84457\n",
       "2024-01-05    102802\n",
       "               ...  \n",
       "2024-03-27    118052\n",
       "2024-03-28    129940\n",
       "2024-03-29    116564\n",
       "2024-03-30    115655\n",
       "2024-03-31     99386\n",
       "Name: total, Length: 91, dtype: int64"
      ]
     },
     "execution_count": 8,
     "metadata": {},
     "output_type": "execute_result"
    }
   ],
   "source": [
    "\n",
    "chiffre_daffaire_par_jour = df.groupby('date')['total'].sum()\n",
    "\n",
    "\n",
    "chiffre_daffaire_par_jour"
   ]
  },
  {
   "cell_type": "code",
   "execution_count": 9,
   "metadata": {},
   "outputs": [
    {
     "name": "stdout",
     "output_type": "stream",
     "text": [
      "161449 2024-01-06\n"
     ]
    }
   ],
   "source": [
    "max_chiffre_daffaire_par_jour = chiffre_daffaire_par_jour.max()\n",
    "max_chiffre_daffaire_par_jour_date = chiffre_daffaire_par_jour.idxmax()\n",
    "\n",
    "print(max_chiffre_daffaire_par_jour, max_chiffre_daffaire_par_jour_date)\n"
   ]
  },
  {
   "cell_type": "code",
   "execution_count": 10,
   "metadata": {},
   "outputs": [
    {
     "data": {
      "text/plain": [
       "categorie\n",
       "Accessoires     3639970\n",
       "Mobilier        1789893\n",
       "Électronique    3519236\n",
       "Name: total, dtype: int64"
      ]
     },
     "execution_count": 10,
     "metadata": {},
     "output_type": "execute_result"
    }
   ],
   "source": [
    "\n",
    "chiffre_daffaire_par_categorie = df.groupby('categorie')['total'].sum()\n",
    "\n",
    "chiffre_daffaire_par_categorie"
   ]
  },
  {
   "cell_type": "code",
   "execution_count": 11,
   "metadata": {},
   "outputs": [
    {
     "name": "stdout",
     "output_type": "stream",
     "text": [
      "3639970 Accessoires\n"
     ]
    }
   ],
   "source": [
    "\n",
    "max_chiffre_daffaire_par_categorie = chiffre_daffaire_par_categorie.max()\n",
    "\n",
    "max_chiffre_daffaire_par_categorie_nom = chiffre_daffaire_par_categorie.idxmax()\n",
    "\n",
    "print(max_chiffre_daffaire_par_categorie, max_chiffre_daffaire_par_categorie_nom)"
   ]
  },
  {
   "cell_type": "code",
   "execution_count": null,
   "metadata": {},
   "outputs": [
    {
     "data": {
      "image/png": "[encoded data removed]",
      "text/plain": [
       "<Figure size 1000x500 with 1 Axes>"
      ]
     },
     "metadata": {},
     "output_type": "display_data"
    }
   ],
   "source": [
    "\n",
    "plt.figure(figsize=(10, 5))\n",
    "\n",
    "df['produits'].hist(bins=12)\n",
    "\n",
    "plt.title(\"Ventes par produit\",  fontsize=18)\n",
    "plt.xlabel(\"Produits\", fontsize=18)\n",
    "plt.ylabel(\"Qunatité vendus\",  fontsize=18)\n",
    "plt.xticks(rotation=65)\n",
    "plt.grid()\n",
    "plt.show()\n"
   ]
  },
  {
   "cell_type": "code",
   "execution_count": 25,
   "metadata": {},
   "outputs": [
    {
     "data": {
      "image/png": "[encoded data removed]",
      "text/plain": [
       "<Figure size 640x480 with 1 Axes>"
      ]
     },
     "metadata": {},
     "output_type": "display_data"
    }
   ],
   "source": [
    "df.groupby('categorie')['total'].sum().plot(kind='bar', color=['green', \"orange\", 'blue'])\n",
    "plt.title(\"Ventes par catégorie\")\n",
    "plt.show()"
   ]
  },
  {
   "cell_type": "code",
   "execution_count": 30,
   "metadata": {},
   "outputs": [
    {
     "data": {
      "image/png": "[encoded data removed]",
      "text/plain": [
       "<Figure size 640x480 with 1 Axes>"
      ]
     },
     "metadata": {},
     "output_type": "display_data"
    }
   ],
   "source": [
    "df.groupby('date')['total'].sum().plot(kind='line')\n",
    "plt.title(\"Ventes Quotidiennes\")\n",
    "plt.show()"
   ]
  }
 ],
 "metadata": {
  "kernelspec": {
   "display_name": "3.12.4",
   "language": "python",
   "name": "python3"
  },
  "language_info": {
   "codemirror_mode": {
    "name": "ipython",
    "version": 3
   },
   "file_extension": ".py",
   "mimetype": "text/x-python",
   "name": "python",
   "nbconvert_exporter": "python",
   "pygments_lexer": "ipython3",
   "version": "3.12.4"
  }
 },
 "nbformat": 4,
 "nbformat_minor": 2
}

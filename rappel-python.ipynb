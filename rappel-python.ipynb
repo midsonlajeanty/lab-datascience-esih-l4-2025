{
 "cells": [
  {
   "cell_type": "markdown",
   "metadata": {},
   "source": [
    "### Rappel Python"
   ]
  },
  {
   "cell_type": "code",
   "execution_count": null,
   "metadata": {},
   "outputs": [
    {
     "name": "stdout",
     "output_type": "stream",
     "text": [
      "[1, 2, 3, 6, 2, 3]\n"
     ]
    }
   ],
   "source": [
    "# Liste\n",
    "\n",
    "numbers = [1, 2]\n",
    "\n",
    "other_numbers = [2, 9, 12, 6]\n",
    "\n",
    "# strings = ['anana', 'zabriko', 'zoranj', 'pom', 'fig', 'chadek']\n",
    "\n",
    "numbers.append(6)\n",
    "\n",
    "numbers.insert(2, 3)\n",
    "\n",
    "# numbers.remove(2)\n",
    "\n",
    "# element = numbers.pop()\n",
    "\n",
    "# index = numbers.index(2, 2, 4)\n",
    "\n",
    "# numbers.sort(reverse=True)\n",
    "\n",
    "\n",
    "# strings.sort(reverse=True)\n",
    "\n",
    "numbers.extend([2, 3])\n",
    "\n",
    "# numbers_2 = numbers + other_numbers\n",
    "\n",
    "# numbers.reverse()\n",
    "\n",
    "print(numbers)"
   ]
  },
  {
   "cell_type": "code",
   "execution_count": null,
   "metadata": {},
   "outputs": [
    {
     "name": "stdout",
     "output_type": "stream",
     "text": [
      "{'e', 'y', 'u', 'i', 'a', 'o'} {'e', 'u'} {'i', 'a'} {'o', 'y'}\n"
     ]
    }
   ],
   "source": [
    "# Ensembles (Set)\n",
    "\n",
    "voyelles = {'a', 'e', 'i', 'u'}\n",
    "\n",
    "other_voyelles = {'o', 'u', 'y', 'e'}\n",
    "\n",
    "# voyelles.add('o')\n",
    "\n",
    "# voyelles.remove('u')\n",
    "\n",
    "# voyelles.discard('u')\n",
    "\n",
    "union = voyelles.union(other_voyelles)\n",
    "\n",
    "inter = voyelles.intersection(other_voyelles)\n",
    "\n",
    "difference_1 = voyelles.difference(other_voyelles)\n",
    "\n",
    "difference_2 = other_voyelles.difference(voyelles)\n",
    "\n",
    "\n",
    "print(union, inter, difference_1, difference_2)"
   ]
  },
  {
   "cell_type": "code",
   "execution_count": null,
   "metadata": {},
   "outputs": [
    {
     "name": "stdout",
     "output_type": "stream",
     "text": [
      "('nom', 'JeanJean')\n"
     ]
    }
   ],
   "source": [
    "# Dictionnaires\n",
    "\n",
    "person = {\n",
    "    'nom': \"JeanJean\",\n",
    "    \"age\": 26,\n",
    "    \"taille\": 1.80,\n",
    "    'poids': \"10 kg\"\n",
    "}\n",
    "\n",
    "# value = person.get('poids', 'N/A')\n",
    "\n",
    "# value_2 = person[\"poids\"]\n",
    "\n",
    "# keys = person.keys()\n",
    "\n",
    "# values = person.values()\n",
    "\n",
    "# items = person.items()\n",
    "\n",
    "person.update({\n",
    "    'naissance': '12/02/1999',\n",
    "    'zone': \"Port-au-Prince, Haiti\"\n",
    "})\n",
    "\n",
    "# naissance = person.pop('naissance')\n",
    "\n",
    "# item = person.popitem()\n",
    "\n",
    "del person['taille']\n",
    "\n",
    "\n",
    "key = 'nom'\n",
    "\n",
    "couple = (key, person[key])\n",
    "\n",
    "print(couple)"
   ]
  },
  {
   "cell_type": "code",
   "execution_count": null,
   "metadata": {},
   "outputs": [
    {
     "name": "stdout",
     "output_type": "stream",
     "text": [
      "[1, 9, 25]\n"
     ]
    }
   ],
   "source": [
    "# Les comprehension de listes\n",
    "\n",
    "numbers = [1, 2, 3, 4, 5]\n",
    "\n",
    "# numbers_carre = []\n",
    "# for number in numbers:\n",
    "#     if number % 2 != 0:\n",
    "#         numbers_carre.append(number**2)\n",
    "\n",
    "numbers_carre = [number**2 for number in numbers if number % 2 != 0]\n",
    "\n",
    "print(numbers_carre)"
   ]
  },
  {
   "cell_type": "code",
   "execution_count": null,
   "metadata": {},
   "outputs": [
    {
     "name": "stdout",
     "output_type": "stream",
     "text": [
      "{'firstname': 'JEAN BAPTISTE', 'lastname': 'NICOLAS', 'nickname': 'JEANJEAN'}\n"
     ]
    }
   ],
   "source": [
    "# Les comprehension de  dictionnaires\n",
    "\n",
    "data = {\n",
    "    'firstname': \"Jean baptiste\",\n",
    "    'lastname': \"nicolas\",\n",
    "    'nickname': 'JeanJean'\n",
    "}\n",
    "\n",
    "# new_data = {}\n",
    "# for key, value in data.items():\n",
    "#     new_data[key] = value.upper()\n",
    "\n",
    "new_data = {key: value.upper() for key, value in data.items()}\n",
    "\n",
    "\n",
    "print(new_data)"
   ]
  },
  {
   "cell_type": "code",
   "execution_count": null,
   "metadata": {},
   "outputs": [
    {
     "name": "stdout",
     "output_type": "stream",
     "text": [
      "7\n"
     ]
    }
   ],
   "source": [
    "# Lamda : Fonction ecrite sur une seule ligne\n",
    "#\n",
    "# lambda <parameters> : <return value>\n",
    "\n",
    "# Ecriture Normale d'une fonction\n",
    "# def add(x, y):\n",
    "#     return x + y\n",
    "\n",
    "\n",
    "def add(x, y): return x + y\n",
    "\n",
    "\n",
    "print(add(2, 5))"
   ]
  },
  {
   "cell_type": "code",
   "execution_count": null,
   "metadata": {},
   "outputs": [
    {
     "name": "stdout",
     "output_type": "stream",
     "text": [
      "[{'nom': 'mamoune', 'age': 67}, {'nom': 'ti paul', 'age': 45}, {'nom': 'dyesibon', 'age': 26}]\n"
     ]
    }
   ],
   "source": [
    "# sorted\n",
    "\n",
    "\n",
    "# def sort_method(element):\n",
    "#     return element['age']\n",
    "\n",
    "# sort_method = lambda element : element['age']\n",
    "\n",
    "eleves = [\n",
    "    {\n",
    "        'nom': \"ti paul\",\n",
    "        'age': 45\n",
    "    },\n",
    "    {\n",
    "        'nom': \"mamoune\",\n",
    "        'age': 67\n",
    "    },\n",
    "    {\n",
    "        'nom': \"dyesibon\",\n",
    "        'age': 26\n",
    "    }\n",
    "]\n",
    "\n",
    "sorted_eleves = sorted(\n",
    "    eleves, key=lambda element: element['age'], reverse=True)\n",
    "\n",
    "print(sorted_eleves)"
   ]
  },
  {
   "cell_type": "code",
   "execution_count": null,
   "metadata": {},
   "outputs": [
    {
     "name": "stdout",
     "output_type": "stream",
     "text": [
      "[1, 4, 9, 16, 25]\n"
     ]
    }
   ],
   "source": [
    "# map\n",
    "\n",
    "numbers = [1, 2, 3, 4, 5]\n",
    "\n",
    "numbers_carre = list(map(lambda x: x**2, numbers))\n",
    "\n",
    "print(numbers_carre)"
   ]
  },
  {
   "cell_type": "code",
   "execution_count": null,
   "metadata": {},
   "outputs": [
    {
     "name": "stdout",
     "output_type": "stream",
     "text": [
      "[1, 3, 5]\n"
     ]
    }
   ],
   "source": [
    "# filter\n",
    "\n",
    "numbers = [1, 2, 3, 4, 5]\n",
    "\n",
    "# odd_numbers = []\n",
    "# for num in numbers:\n",
    "#     if num % 2 == 0:\n",
    "#         odd_numbers.append(num)\n",
    "\n",
    "# def is_odd(num):\n",
    "#     return num % 2 == 0\n",
    "\n",
    "\n",
    "odd_numbers = list(filter(lambda num : num % 2 != 0, numbers))\n",
    "\n",
    "print(odd_numbers)"
   ]
  },
  {
   "cell_type": "code",
   "execution_count": 159,
   "metadata": {},
   "outputs": [
    {
     "name": "stdout",
     "output_type": "stream",
     "text": [
      "225\n"
     ]
    }
   ],
   "source": [
    "# reduce\n",
    "\n",
    "# import functools \n",
    "\n",
    "# functools.reduce(...)\n",
    "\n",
    "from functools import reduce\n",
    "\n",
    "numbers = [1, 2, 3, 4, 5]\n",
    "\n",
    "# somme_carre = 0\n",
    "# for num in numbers:\n",
    "#     somme_carre += num ** 2\n",
    "\n",
    "# def reduce_somme(acc, num):\n",
    "#     return acc + (num ** 2)\n",
    "\n",
    "somme_carre = reduce(lambda acc, num: acc + num ** 3, numbers)\n",
    "\n",
    "print(somme_carre)\n"
   ]
  }
 ],
 "metadata": {
  "kernelspec": {
   "display_name": "3.12.4",
   "language": "python",
   "name": "python3"
  },
  "language_info": {
   "codemirror_mode": {
    "name": "ipython",
    "version": 3
   },
   "file_extension": ".py",
   "mimetype": "text/x-python",
   "name": "python",
   "nbconvert_exporter": "python",
   "pygments_lexer": "ipython3",
   "version": "3.12.4"
  }
 },
 "nbformat": 4,
 "nbformat_minor": 2
}
